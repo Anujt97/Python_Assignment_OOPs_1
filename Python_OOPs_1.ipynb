{
 "cells": [
  {
   "cell_type": "markdown",
   "id": "92620954",
   "metadata": {},
   "source": [
    "Question 1 :- Bank Account Create a class representing a bank account with attributes like account number, account holder name, and balance. Implement methods to deposit and withdraw money from the account."
   ]
  },
  {
   "cell_type": "code",
   "execution_count": 11,
   "id": "03f98961",
   "metadata": {},
   "outputs": [
    {
     "name": "stdout",
     "output_type": "stream",
     "text": [
      "10 is deducted from the account\n",
      "20 is added to the account\n"
     ]
    }
   ],
   "source": [
    "class bankAccount:\n",
    "    def __init__(self, account_number, acc_holder_name, balance = 0):\n",
    "        self.account_number = account_number\n",
    "        self.acc_holder_name = acc_holder_name\n",
    "        self.balance = balance\n",
    "        \n",
    "    def withdraw(self, amt):\n",
    "        if(self.balance > amt):\n",
    "            print(f'{amt} is deducted from the account')\n",
    "            balance = self.balance - amt\n",
    "            \n",
    "    def deposit(self, amt):\n",
    "        print(f'{amt} is added to the account')\n",
    "        balance = self.balance + amt\n",
    "        \n",
    "user_1 = bankAccount(\"12345\", \"Anuj\", 100)\n",
    "user_1.withdraw(10)\n",
    "\n",
    "user_2 = bankAccount(\"12345\", \"Anuj\", 200)\n",
    "user_2.deposit(20)"
   ]
  },
  {
   "cell_type": "markdown",
   "id": "05802aff",
   "metadata": {},
   "source": [
    "Question 2 :- Employee Management Create a class representing an employee with attributes like employee ID, name, and salary. Implement methods to calculate the yearly bonus and display employee details."
   ]
  },
  {
   "cell_type": "code",
   "execution_count": 13,
   "id": "d7f1cbd9",
   "metadata": {},
   "outputs": [
    {
     "name": "stdout",
     "output_type": "stream",
     "text": [
      "Employee ID: E1234\n",
      "Name: Anuj\n",
      "Salary: 80000\n",
      "Yearly Bonus: $8000.0\n"
     ]
    }
   ],
   "source": [
    "class Employee:\n",
    "    def __init__(self, employee_id, name, salary):\n",
    "        self.employee_id = employee_id\n",
    "        self.name = name\n",
    "        self.salary = salary\n",
    "\n",
    "    def calculate_yearly_bonus(self, bonus_percentage):\n",
    "        if bonus_percentage < 0:\n",
    "            print(\"Invalid bonus percentage. Please enter a positive percentage.\")\n",
    "            return 0\n",
    "        bonus = (bonus_percentage / 100) * self.salary\n",
    "        return bonus\n",
    "\n",
    "    def display_employee_details(self):\n",
    "        print(\"Employee ID:\", self.employee_id)\n",
    "        print(\"Name:\", self.name)\n",
    "        print(\"Salary:\", self.salary)\n",
    "        \n",
    "employee = Employee(\"E1234\", \"Anuj\", 80000)\n",
    "employee.display_employee_details()\n",
    "bonus_percentage = 10  # 10% bonus\n",
    "yearly_bonus = employee.calculate_yearly_bonus(bonus_percentage)\n",
    "print(f\"Yearly Bonus: ${yearly_bonus}\")"
   ]
  },
  {
   "cell_type": "markdown",
   "id": "471bae5a",
   "metadata": {},
   "source": [
    "Question 3 :- Vehicle Rental Create a class representing a vehicle rental system. Implement methods to rent a vehicle, return a vehicle, and display available vehicles."
   ]
  },
  {
   "cell_type": "code",
   "execution_count": 17,
   "id": "aa317f20",
   "metadata": {},
   "outputs": [
    {
     "name": "stdout",
     "output_type": "stream",
     "text": [
      "Vehicle V001 (Sedan) added to the available vehicles.\n",
      "Vehicle V002 (SUV) added to the available vehicles.\n",
      "Vehicle V003 (Compact) added to the available vehicles.\n",
      "Vehicle V001 (Sedan) rented by Anuj Tiwari.\n",
      "Vehicle V002 (SUV) rented by Virat.\n",
      "Available Vehicles:\n",
      "Vehicle ID: V003, Type: Compact\n",
      "Vehicle V001 (Sedan) returned by Anuj Tiwari.\n",
      "Available Vehicles:\n",
      "Vehicle ID: V003, Type: Compact\n",
      "Vehicle ID: V001, Type: Sedan\n"
     ]
    }
   ],
   "source": [
    "class VehicleRentalSystem:\n",
    "    def __init__(self):\n",
    "        self.available_vehicles = {}\n",
    "        self.rented_vehicles = {}\n",
    "\n",
    "    def add_vehicle(self, vehicle_id, vehicle_type):\n",
    "        if vehicle_id in self.available_vehicles:\n",
    "            print(f\"Vehicle {vehicle_id} is already in the system.\")\n",
    "        else:\n",
    "            self.available_vehicles[vehicle_id] = vehicle_type\n",
    "            print(f\"Vehicle {vehicle_id} ({vehicle_type}) added to the available vehicles.\")\n",
    "\n",
    "    def rent_vehicle(self, vehicle_id, customer_name):\n",
    "        if vehicle_id in self.available_vehicles:\n",
    "            vehicle_type = self.available_vehicles[vehicle_id]\n",
    "            del self.available_vehicles[vehicle_id]\n",
    "            self.rented_vehicles[vehicle_id] = (vehicle_type, customer_name)\n",
    "            print(f\"Vehicle {vehicle_id} ({vehicle_type}) rented by {customer_name}.\")\n",
    "        else:\n",
    "            print(f\"Vehicle {vehicle_id} is not available for rent.\")\n",
    "\n",
    "    def return_vehicle(self, vehicle_id):\n",
    "        if vehicle_id in self.rented_vehicles:\n",
    "            vehicle_type, customer_name = self.rented_vehicles[vehicle_id]\n",
    "            del self.rented_vehicles[vehicle_id]\n",
    "            self.available_vehicles[vehicle_id] = vehicle_type\n",
    "            print(f\"Vehicle {vehicle_id} ({vehicle_type}) returned by {customer_name}.\")\n",
    "        else:\n",
    "            print(f\"Vehicle {vehicle_id} is not currently rented.\")\n",
    "\n",
    "    def display_available_vehicles(self):\n",
    "        print(\"Available Vehicles:\")\n",
    "        for vehicle_id, vehicle_type in self.available_vehicles.items():\n",
    "            print(f\"Vehicle ID: {vehicle_id}, Type: {vehicle_type}\")\n",
    "\n",
    "            \n",
    "rental_system = VehicleRentalSystem()\n",
    "\n",
    "rental_system.add_vehicle(\"V001\", \"Sedan\")\n",
    "rental_system.add_vehicle(\"V002\", \"SUV\")\n",
    "rental_system.add_vehicle(\"V003\", \"Compact\")\n",
    "\n",
    "rental_system.rent_vehicle(\"V001\", \"Anuj Tiwari\")\n",
    "rental_system.rent_vehicle(\"V002\", \"Virat\")\n",
    "\n",
    "rental_system.display_available_vehicles()\n",
    "\n",
    "rental_system.return_vehicle(\"V001\")\n",
    "\n",
    "rental_system.display_available_vehicles()"
   ]
  },
  {
   "cell_type": "markdown",
   "id": "ac7c2382",
   "metadata": {},
   "source": [
    "Question 4 :- Library Catalog Create classes representing a library and a book. Implement methods to add books to the library, borrow books, and display available books."
   ]
  },
  {
   "cell_type": "code",
   "execution_count": 18,
   "id": "c74a770f",
   "metadata": {},
   "outputs": [
    {
     "name": "stdout",
     "output_type": "stream",
     "text": [
      "Book added to the library: Book1 by Author1\n",
      "Book added to the library: Book2 by Author2\n",
      "Book added to the library: Book3 by Author3\n",
      "Available Books:\n",
      "Book1 by Author1\n",
      "Book2 by Author2\n",
      "Book3 by Author3\n",
      "You have borrowed: Book1 by Author1\n",
      "You have borrowed: Book2 by Author2\n",
      "'Book4' is not in the library's catalog.\n",
      "Available Books:\n",
      "Book3 by Author3\n"
     ]
    }
   ],
   "source": [
    "class Book:\n",
    "    def __init__(self, title, author):\n",
    "        self.title = title\n",
    "        self.author = author\n",
    "        self.is_available = True\n",
    "\n",
    "    def __str__(self):\n",
    "        return f\"{self.title} by {self.author}\"\n",
    "\n",
    "class Library:\n",
    "    def __init__(self):\n",
    "        self.catalog = {}\n",
    "\n",
    "    def add_book(self, title, author):\n",
    "        book = Book(title, author)\n",
    "        self.catalog[title] = book\n",
    "        print(f\"Book added to the library: {book}\")\n",
    "\n",
    "    def borrow_book(self, title):\n",
    "        if title in self.catalog:\n",
    "            book = self.catalog[title]\n",
    "            if book.is_available:\n",
    "                book.is_available = False\n",
    "                print(f\"You have borrowed: {book}\")\n",
    "            else:\n",
    "                print(f\"Sorry, '{title}' is currently unavailable.\")\n",
    "        else:\n",
    "            print(f\"'{title}' is not in the library's catalog.\")\n",
    "\n",
    "    def display_available_books(self):\n",
    "        available_books = [book for book in self.catalog.values() if book.is_available]\n",
    "        if available_books:\n",
    "            print(\"Available Books:\")\n",
    "            for book in available_books:\n",
    "                print(book)\n",
    "        else:\n",
    "            print(\"No books are currently available in the library.\")\n",
    "\n",
    "library = Library()\n",
    "\n",
    "library.add_book(\"Book1\", \"Author1\")\n",
    "library.add_book(\"Book2\", \"Author2\")\n",
    "library.add_book(\"Book3\", \"Author3\")\n",
    "\n",
    "library.display_available_books()\n",
    "\n",
    "library.borrow_book(\"Book1\")\n",
    "library.borrow_book(\"Book2\")\n",
    "library.borrow_book(\"Book4\")\n",
    "\n",
    "library.display_available_books()"
   ]
  },
  {
   "cell_type": "markdown",
   "id": "286925d4",
   "metadata": {},
   "source": [
    "Question 5 :- Product Inventory Create classes representing a product and an inventory system. Implement methods to add products to the inventory, update product quantity, and display available products."
   ]
  },
  {
   "cell_type": "code",
   "execution_count": 19,
   "id": "0011e087",
   "metadata": {},
   "outputs": [
    {
     "name": "stdout",
     "output_type": "stream",
     "text": [
      "Product added to the inventory: Product ID: P001, Name: Product A, Price: $10.99, Quantity: 50\n",
      "Product added to the inventory: Product ID: P002, Name: Product B, Price: $5.99, Quantity: 30\n",
      "Product added to the inventory: Product ID: P003, Name: Product C, Price: $7.99, Quantity: 20\n",
      "Available Products:\n",
      "Product ID: P001, Name: Product A, Price: $10.99, Quantity: 50\n",
      "Product ID: P002, Name: Product B, Price: $5.99, Quantity: 30\n",
      "Product ID: P003, Name: Product C, Price: $7.99, Quantity: 20\n",
      "Quantity updated for Product A: 45\n",
      "Product with ID P004 is not in the inventory.\n",
      "Available Products:\n",
      "Product ID: P001, Name: Product A, Price: $10.99, Quantity: 45\n",
      "Product ID: P002, Name: Product B, Price: $5.99, Quantity: 30\n",
      "Product ID: P003, Name: Product C, Price: $7.99, Quantity: 20\n"
     ]
    }
   ],
   "source": [
    "class Product:\n",
    "    def __init__(self, product_id, name, price, quantity):\n",
    "        self.product_id = product_id\n",
    "        self.name = name\n",
    "        self.price = price\n",
    "        self.quantity = quantity\n",
    "\n",
    "    def __str__(self):\n",
    "        return f\"Product ID: {self.product_id}, Name: {self.name}, Price: ${self.price}, Quantity: {self.quantity}\"\n",
    "\n",
    "class InventorySystem:\n",
    "    def __init__(self):\n",
    "        self.inventory = {}\n",
    "\n",
    "    def add_product(self, product_id, name, price, quantity):\n",
    "        product = Product(product_id, name, price, quantity)\n",
    "        self.inventory[product_id] = product\n",
    "        print(f\"Product added to the inventory: {product}\")\n",
    "\n",
    "    def update_quantity(self, product_id, new_quantity):\n",
    "        if product_id in self.inventory:\n",
    "            product = self.inventory[product_id]\n",
    "            product.quantity = new_quantity\n",
    "            print(f\"Quantity updated for {product.name}: {product.quantity}\")\n",
    "        else:\n",
    "            print(f\"Product with ID {product_id} is not in the inventory.\")\n",
    "\n",
    "    def display_available_products(self):\n",
    "        available_products = [product for product in self.inventory.values() if product.quantity > 0]\n",
    "        if available_products:\n",
    "            print(\"Available Products:\")\n",
    "            for product in available_products:\n",
    "                print(product)\n",
    "        else:\n",
    "            print(\"No products are currently available in the inventory.\")\n",
    "\n",
    "            \n",
    "inventory_system = InventorySystem()\n",
    "\n",
    "inventory_system.add_product(\"P001\", \"Product A\", 10.99, 50)\n",
    "inventory_system.add_product(\"P002\", \"Product B\", 5.99, 30)\n",
    "inventory_system.add_product(\"P003\", \"Product C\", 7.99, 20)\n",
    "\n",
    "inventory_system.display_available_products()\n",
    "\n",
    "inventory_system.update_quantity(\"P001\", 45)\n",
    "inventory_system.update_quantity(\"P004\", 10)\n",
    "\n",
    "inventory_system.display_available_products()"
   ]
  },
  {
   "cell_type": "markdown",
   "id": "8f3636ad",
   "metadata": {},
   "source": [
    "Question 6 :- Shape Calculation Create a class representing a shape with attributes like length, width, and height. Implement methods to calculate the area and perimeter of the shape."
   ]
  },
  {
   "cell_type": "code",
   "execution_count": 20,
   "id": "a74c84fd",
   "metadata": {},
   "outputs": [
    {
     "name": "stdout",
     "output_type": "stream",
     "text": [
      "Rectangle Area: 20\n",
      "Rectangle Perimeter: 18\n",
      "Circle Area: 28.27433388231\n",
      "Triangle Area: 24.0\n",
      "Cube Area: 96\n",
      "Cube Volume: 64\n",
      "Sphere Area: 50.26548245744\n",
      "Sphere Volume: 33.510321638293334\n"
     ]
    }
   ],
   "source": [
    "class Shape:\n",
    "    def __init__(self, length=0, width=0, height=0):\n",
    "        self.length = length\n",
    "        self.width = width\n",
    "        self.height = height\n",
    "\n",
    "    def calculate_area(self):\n",
    "        pass\n",
    "\n",
    "    def calculate_perimeter(self):\n",
    "        pass\n",
    "\n",
    "    def calculate_volume(self):\n",
    "        pass\n",
    "\n",
    "class Rectangle(Shape):\n",
    "    def calculate_area(self):\n",
    "        return self.length * self.width\n",
    "\n",
    "    def calculate_perimeter(self):\n",
    "        return 2 * (self.length + self.width)\n",
    "\n",
    "class Circle(Shape):\n",
    "    def calculate_area(self):\n",
    "        return 3.14159265359 * (self.length ** 2)\n",
    "\n",
    "class Triangle(Shape):\n",
    "    def calculate_area(self):\n",
    "        return 0.5 * self.length * self.width\n",
    "\n",
    "class Cube(Shape):\n",
    "    def calculate_area(self):\n",
    "        return 6 * (self.length ** 2)\n",
    "\n",
    "    def calculate_volume(self):\n",
    "        return self.length ** 3\n",
    "\n",
    "class Sphere(Shape):\n",
    "    def calculate_area(self):\n",
    "        return 4 * 3.14159265359 * (self.length ** 2)\n",
    "\n",
    "    def calculate_volume(self):\n",
    "        return (4 / 3) * 3.14159265359 * (self.length ** 3)\n",
    "    \n",
    "rectangle = Rectangle(5, 4)\n",
    "circle = Circle(3)\n",
    "triangle = Triangle(6, 8)\n",
    "cube = Cube(4)\n",
    "sphere = Sphere(2)\n",
    "\n",
    "print(f\"Rectangle Area: {rectangle.calculate_area()}\")\n",
    "print(f\"Rectangle Perimeter: {rectangle.calculate_perimeter()}\")\n",
    "print(f\"Circle Area: {circle.calculate_area()}\")\n",
    "print(f\"Triangle Area: {triangle.calculate_area()}\")\n",
    "print(f\"Cube Area: {cube.calculate_area()}\")\n",
    "print(f\"Cube Volume: {cube.calculate_volume()}\")\n",
    "print(f\"Sphere Area: {sphere.calculate_area()}\")\n",
    "print(f\"Sphere Volume: {sphere.calculate_volume()}\")"
   ]
  },
  {
   "cell_type": "markdown",
   "id": "168ed157",
   "metadata": {},
   "source": [
    "Question 7 :- Student Management Create a class representing a student with attributes like student ID, name, and grades. Implement methods to calculate the average grade and display student details."
   ]
  },
  {
   "cell_type": "code",
   "execution_count": 22,
   "id": "4e350e08",
   "metadata": {},
   "outputs": [
    {
     "name": "stdout",
     "output_type": "stream",
     "text": [
      "Student ID: S12345\n",
      "Name: Anuj Tiwari\n",
      "Grades: 85, 92, 78\n",
      "Average Grade: 85.0\n",
      "\n",
      "Student ID: S67890\n",
      "Name: Rohit Sharma\n",
      "Grades: 94, 89, 91\n",
      "Average Grade: 91.33333333333333\n"
     ]
    }
   ],
   "source": [
    "class Student:\n",
    "    def __init__(self, student_id, name):\n",
    "        self.student_id = student_id\n",
    "        self.name = name\n",
    "        self.grades = []\n",
    "\n",
    "    def add_grade(self, grade):\n",
    "        self.grades.append(grade)\n",
    "\n",
    "    def calculate_average_grade(self):\n",
    "        if len(self.grades) == 0:\n",
    "            return 0\n",
    "        total = sum(self.grades)\n",
    "        return total / len(self.grades)\n",
    "\n",
    "    def display_student_details(self):\n",
    "        print(f\"Student ID: {self.student_id}\")\n",
    "        print(f\"Name: {self.name}\")\n",
    "        print(f\"Grades: {', '.join(map(str, self.grades))}\")\n",
    "        average = self.calculate_average_grade()\n",
    "        print(f\"Average Grade: {average}\")\n",
    "        \n",
    "student1 = Student(\"S12345\", \"Anuj Tiwari\")\n",
    "student1.add_grade(85)\n",
    "student1.add_grade(92)\n",
    "student1.add_grade(78)\n",
    "\n",
    "student2 = Student(\"S67890\", \"Rohit Sharma\")\n",
    "student2.add_grade(94)\n",
    "student2.add_grade(89)\n",
    "student2.add_grade(91)\n",
    "\n",
    "student1.display_student_details()\n",
    "print()\n",
    "student2.display_student_details()"
   ]
  },
  {
   "cell_type": "markdown",
   "id": "fb1327ab",
   "metadata": {},
   "source": [
    "Question 8 :- Email Management Create a class representing an email with attributes like sender, recipient, and subject. Implement methods to send an email and display email details."
   ]
  },
  {
   "cell_type": "code",
   "execution_count": 24,
   "id": "d02a7500",
   "metadata": {},
   "outputs": [
    {
     "name": "stdout",
     "output_type": "stream",
     "text": [
      "Email details:\n",
      "From: anuj@example.com\n",
      "To: rishabh@example.com\n",
      "Subject: Meeting Reminder\n",
      "Message:\n",
      "Hi rishabh, just a reminder about our meeting tomorrow at 2 PM. See you there!\n",
      "\n",
      "Sending the email...\n",
      "Email sent:\n",
      "From: anuj@example.com\n",
      "To: rishabh@example.com\n",
      "Subject: Meeting Reminder\n",
      "Message: Hi rishabh, just a reminder about our meeting tomorrow at 2 PM. See you there!\n"
     ]
    }
   ],
   "source": [
    "class Email:\n",
    "    def __init__(self, sender, recipient, subject, message):\n",
    "        self.sender = sender\n",
    "        self.recipient = recipient\n",
    "        self.subject = subject\n",
    "        self.message = message\n",
    "\n",
    "    def send_email(self):\n",
    "        print(\"Email sent:\")\n",
    "        print(\"From:\", self.sender)\n",
    "        print(\"To:\", self.recipient)\n",
    "        print(\"Subject:\", self.subject)\n",
    "        print(\"Message:\", self.message)\n",
    "\n",
    "    def display_email_details(self):\n",
    "        print(\"Email details:\")\n",
    "        print(\"From:\", self.sender)\n",
    "        print(\"To:\", self.recipient)\n",
    "        print(\"Subject:\", self.subject)\n",
    "        print(\"Message:\")\n",
    "        print(self.message)\n",
    "        \n",
    "sender = \"anuj@example.com\"\n",
    "recipient = \"rishabh@example.com\"\n",
    "subject = \"Meeting Reminder\"\n",
    "message = \"Hi rishabh, just a reminder about our meeting tomorrow at 2 PM. See you there!\"\n",
    "\n",
    "email = Email(sender, recipient, subject, message)\n",
    "\n",
    "email.display_email_details()\n",
    "\n",
    "print(\"\\nSending the email...\")\n",
    "email.send_email()"
   ]
  },
  {
   "cell_type": "markdown",
   "id": "cbb6a982",
   "metadata": {},
   "source": [
    "Question 9 :- Social Media Profile Create a class representing a social media profile with attributes like username and posts. Implement methods to add posts, display posts, and search for posts by keyword."
   ]
  },
  {
   "cell_type": "code",
   "execution_count": 26,
   "id": "f9f28eee",
   "metadata": {},
   "outputs": [
    {
     "name": "stdout",
     "output_type": "stream",
     "text": [
      "New post added by Anuj Tiwari: Hello, this is my first post!\n",
      "New post added by Anuj Tiwari: Just had a great meal. #Foodie\n",
      "New post added by Anuj Tiwari: Excited about my upcoming trip to the mountains!\n",
      "Posts by Anuj Tiwari:\n",
      "1. Hello, this is my first post!\n",
      "2. Just had a great meal. #Foodie\n",
      "3. Excited about my upcoming trip to the mountains!\n",
      "\n",
      "Searching for posts with 'food':\n",
      "No posts found containing the keyword 'food'.\n"
     ]
    }
   ],
   "source": [
    "class SocialMediaProfile:\n",
    "    def __init__(self, username):\n",
    "        self.username = username\n",
    "        self.posts = []\n",
    "\n",
    "    def add_post(self, post_text):\n",
    "        self.posts.append(post_text)\n",
    "        print(f\"New post added by {self.username}: {post_text}\")\n",
    "\n",
    "    def display_posts(self):\n",
    "        if not self.posts:\n",
    "            print(f\"{self.username} has no posts.\")\n",
    "        else:\n",
    "            print(f\"Posts by {self.username}:\")\n",
    "            for i, post in enumerate(self.posts, start=1):\n",
    "                print(f\"{i}. {post}\")\n",
    "\n",
    "    def search_posts(self, keyword):\n",
    "        matching_posts = [post for post in self.posts if keyword in post]\n",
    "        if not matching_posts:\n",
    "            print(f\"No posts found containing the keyword '{keyword}'.\")\n",
    "        else:\n",
    "            print(f\"Posts by {self.username} containing the keyword '{keyword}':\")\n",
    "            for i, post in enumerate(matching_posts, start=1):\n",
    "                print(f\"{i}. {post}\")\n",
    "                \n",
    "profile = SocialMediaProfile(\"Anuj Tiwari\")\n",
    "\n",
    "profile.add_post(\"Hello, this is my first post!\")\n",
    "profile.add_post(\"Just had a great meal. #Foodie\")\n",
    "profile.add_post(\"Excited about my upcoming trip to the mountains!\")\n",
    "\n",
    "profile.display_posts()\n",
    "\n",
    "print(\"\\nSearching for posts with 'food':\")\n",
    "profile.search_posts(\"food\")"
   ]
  },
  {
   "cell_type": "markdown",
   "id": "e65e5791",
   "metadata": {},
   "source": [
    "Question 10 :- ToDo List Create a class representing a ToDo list with attributes like tasks and due dates. Implement methods to add tasks, mark tasks as completed, and display pending tasks."
   ]
  },
  {
   "cell_type": "code",
   "execution_count": 28,
   "id": "1b2eaf00",
   "metadata": {},
   "outputs": [
    {
     "name": "stdout",
     "output_type": "stream",
     "text": [
      "Task 'Buy groceries' added with due date 2023-11-15.\n",
      "Task 'Finish project report' added with due date 2023-11-20.\n",
      "Task 'Call the plumber' added with due date 2023-11-18.\n",
      "Pending Tasks:\n",
      "Task: Buy groceries, Due Date: 2023-11-15\n",
      "Task: Finish project report, Due Date: 2023-11-20\n",
      "Task: Call the plumber, Due Date: 2023-11-18\n",
      "Task 'Buy groceries' marked as completed.\n",
      "Task 'Send emails' not found in the ToDo list.\n",
      "Pending Tasks:\n",
      "Task: Finish project report, Due Date: 2023-11-20\n",
      "Task: Call the plumber, Due Date: 2023-11-18\n"
     ]
    }
   ],
   "source": [
    "class ToDoList:\n",
    "    def __init__(self):\n",
    "        self.tasks = []  # List to store tasks and their due dates\n",
    "\n",
    "    def add_task(self, task, due_date):\n",
    "        self.tasks.append({\"task\": task, \"due_date\": due_date, \"completed\": False})\n",
    "        print(f\"Task '{task}' added with due date {due_date}.\")\n",
    "\n",
    "    def mark_task_completed(self, task):\n",
    "        for t in self.tasks:\n",
    "            if t[\"task\"] == task:\n",
    "                t[\"completed\"] = True\n",
    "                print(f\"Task '{task}' marked as completed.\")\n",
    "                return\n",
    "        print(f\"Task '{task}' not found in the ToDo list.\")\n",
    "\n",
    "    def display_pending_tasks(self):\n",
    "        pending_tasks = [t for t in self.tasks if not t[\"completed\"]]\n",
    "        if pending_tasks:\n",
    "            print(\"Pending Tasks:\")\n",
    "            for t in pending_tasks:\n",
    "                print(f\"Task: {t['task']}, Due Date: {t['due_date']}\")\n",
    "        else:\n",
    "            print(\"No pending tasks in the ToDo list.\")\n",
    "            \n",
    "todo_list = ToDoList()\n",
    "\n",
    "todo_list.add_task(\"Buy groceries\", \"2023-11-15\")\n",
    "todo_list.add_task(\"Finish project report\", \"2023-11-20\")\n",
    "todo_list.add_task(\"Call the plumber\", \"2023-11-18\")\n",
    "\n",
    "todo_list.display_pending_tasks()\n",
    "\n",
    "todo_list.mark_task_completed(\"Buy groceries\")\n",
    "todo_list.mark_task_completed(\"Send emails\")\n",
    "\n",
    "todo_list.display_pending_tasks()"
   ]
  },
  {
   "cell_type": "code",
   "execution_count": null,
   "id": "c60500c6",
   "metadata": {},
   "outputs": [],
   "source": []
  }
 ],
 "metadata": {
  "kernelspec": {
   "display_name": "Python 3 (ipykernel)",
   "language": "python",
   "name": "python3"
  },
  "language_info": {
   "codemirror_mode": {
    "name": "ipython",
    "version": 3
   },
   "file_extension": ".py",
   "mimetype": "text/x-python",
   "name": "python",
   "nbconvert_exporter": "python",
   "pygments_lexer": "ipython3",
   "version": "3.11.3"
  }
 },
 "nbformat": 4,
 "nbformat_minor": 5
}
